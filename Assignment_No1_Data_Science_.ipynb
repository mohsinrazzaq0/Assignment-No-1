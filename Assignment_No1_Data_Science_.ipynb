{
  "cells": [
    {
      "cell_type": "code",
      "execution_count": 16,
      "id": "40aad561",
      "metadata": {
        "colab": {
          "base_uri": "https://localhost:8080/"
        },
        "id": "40aad561",
        "outputId": "121164d2-baef-4529-a8a6-e173039455d3"
      },
      "outputs": [
        {
          "output_type": "stream",
          "name": "stdout",
          "text": [
            "Twinkle, twinkle , little star, \n",
            "\tHow I wonder what you are! \n",
            "\t\tUp above the world so high, \n",
            "\t\tLike a diamond in the sky.\n",
            "Twinkle, twinkle , little star, \n",
            "\tHow I wonder what you are!\n"
          ]
        }
      ],
      "source": [
        "a= ('Twinkle, twinkle , little star, \\n\\tHow I wonder what you are! \\n\\t\\tUp above the world so high, \\n\\t\\tLike a diamond in the sky.\\nTwinkle, twinkle , little star, \\n\\tHow I wonder what you are!')\n",
        "print(a)"
      ]
    },
    {
      "cell_type": "code",
      "execution_count": 12,
      "id": "b168164d",
      "metadata": {
        "colab": {
          "base_uri": "https://localhost:8080/"
        },
        "id": "b168164d",
        "outputId": "a6348625-1d2d-43e4-bdd6-8ae70f8deef1"
      },
      "outputs": [
        {
          "output_type": "stream",
          "name": "stdout",
          "text": [
            "pip 21.1.3 from /usr/local/lib/python3.7/dist-packages/pip (python 3.7)\n"
          ]
        }
      ],
      "source": [
        "pip --version"
      ]
    },
    {
      "cell_type": "code",
      "execution_count": 13,
      "id": "de28a67c",
      "metadata": {
        "colab": {
          "base_uri": "https://localhost:8080/"
        },
        "id": "de28a67c",
        "outputId": "893a8032-5a8a-4a81-af2d-2f8bdc4280b6"
      },
      "outputs": [
        {
          "output_type": "stream",
          "name": "stdout",
          "text": [
            "Today date and time is : 2022-01-01 16:22:03.418348\n"
          ]
        }
      ],
      "source": [
        "#Date and Time\n",
        "from datetime import datetime\n",
        "Date=datetime.now()\n",
        "print(\"Today date and time is :\",Date )"
      ]
    },
    {
      "cell_type": "code",
      "execution_count": 14,
      "id": "a15da8ec",
      "metadata": {
        "colab": {
          "base_uri": "https://localhost:8080/"
        },
        "id": "a15da8ec",
        "outputId": "070168b2-7edd-435a-b107-07843e427bb0"
      },
      "outputs": [
        {
          "output_type": "stream",
          "name": "stdout",
          "text": [
            "Enter the radius of Circle:25\n",
            "Area of a Circle = 1962.500\n"
          ]
        }
      ],
      "source": [
        "#Area of Circle\n",
        "PI= 3.14\n",
        "r=float(input(\"Enter the radius of Circle:\"))\n",
        "area= PI*r*r\n",
        "print(\"Area of a Circle = %.3f\" %area)"
      ]
    },
    {
      "cell_type": "code",
      "execution_count": 15,
      "id": "d3e814b8",
      "metadata": {
        "colab": {
          "base_uri": "https://localhost:8080/"
        },
        "id": "d3e814b8",
        "outputId": "51f573b5-1dbf-4317-f93c-f14d9dd53e89"
      },
      "outputs": [
        {
          "output_type": "stream",
          "name": "stdout",
          "text": [
            "Enter your first name:mohsin\n",
            "Enter your last name:Razzaq\n",
            "Razzaq mohsin\n"
          ]
        }
      ],
      "source": [
        "\n",
        "#First and Last Name\n",
        "first=input(\"Enter your first name:\")\n",
        "Last= input(\"Enter your last name:\")\n",
        "print(Last,first)\n"
      ]
    },
    {
      "cell_type": "code",
      "execution_count": 9,
      "id": "c9773f3c",
      "metadata": {
        "colab": {
          "base_uri": "https://localhost:8080/"
        },
        "id": "c9773f3c",
        "outputId": "22e83eb3-55ca-4d0c-cbf9-a44fb99d1d79"
      },
      "outputs": [
        {
          "output_type": "stream",
          "name": "stdout",
          "text": [
            "nishoM qazzaR\n"
          ]
        }
      ],
      "source": [
        "#Reverse Full String\n",
        "def reverse_func(x,y):\n",
        "    x=first\n",
        "    y=Last\n",
        "    full_name=x[::-1]+\" \"+y[::-1]\n",
        "    return full_name\n",
        "print(reverse_func(first,Last))\n"
      ]
    },
    {
      "cell_type": "code",
      "execution_count": 10,
      "id": "5ba38228",
      "metadata": {
        "colab": {
          "base_uri": "https://localhost:8080/"
        },
        "id": "5ba38228",
        "outputId": "2b502b50-f06e-48a7-eb14-a18914f635e9"
      },
      "outputs": [
        {
          "output_type": "stream",
          "name": "stdout",
          "text": [
            "Enter first number:25\n",
            "Enter first number:35\n",
            "60\n"
          ]
        }
      ],
      "source": [
        "#2 inputs and Addition\n",
        "fst= int(input(\"Enter first number:\"))\n",
        "lst= int(input(\"Enter first number:\"))\n",
        "add=fst+lst\n",
        "print(add)"
      ]
    },
    {
      "cell_type": "code",
      "execution_count": null,
      "id": "0945d35f",
      "metadata": {
        "id": "0945d35f"
      },
      "outputs": [],
      "source": [
        "### Thanks sir, I learned new consepts and I'll try to do my best."
      ]
    }
  ],
  "metadata": {
    "kernelspec": {
      "display_name": "Python 3 (ipykernel)",
      "language": "python",
      "name": "python3"
    },
    "language_info": {
      "codemirror_mode": {
        "name": "ipython",
        "version": 3
      },
      "file_extension": ".py",
      "mimetype": "text/x-python",
      "name": "python",
      "nbconvert_exporter": "python",
      "pygments_lexer": "ipython3",
      "version": "3.9.7"
    },
    "colab": {
      "name": "Assignment No1 Data Science .ipynb",
      "provenance": [],
      "collapsed_sections": []
    }
  },
  "nbformat": 4,
  "nbformat_minor": 5
}