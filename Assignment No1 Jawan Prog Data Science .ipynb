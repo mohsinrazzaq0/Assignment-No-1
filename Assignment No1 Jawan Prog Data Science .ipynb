{
 "cells": [
  {
   "cell_type": "code",
   "execution_count": 13,
   "id": "40aad561",
   "metadata": {},
   "outputs": [
    {
     "name": "stdout",
     "output_type": "stream",
     "text": [
      "Twinkle, twinkle , little star, \n",
      "\tHow I wonder what you are! \n",
      "\t\tUp above the world so high, \n",
      "\t\tLike a diamond in the sky.\n",
      "Twinkle, twinkle , little star, \n",
      "\tHow I wonder what you are!\n"
     ]
    }
   ],
   "source": [
    "a= ('Twinkle, twinkle , little star, \\n\\tHow I wonder what you are! \\n\\t\\tUp above the world so high, \\n\\t\\tLike a diamond in the sky.\\nTwinkle, twinkle , little star, \\n\\tHow I wonder what you are!')\n",
    "print(a)"
   ]
  },
  {
   "cell_type": "code",
   "execution_count": 18,
   "id": "b168164d",
   "metadata": {},
   "outputs": [
    {
     "name": "stdout",
     "output_type": "stream",
     "text": [
      "pip 21.2.4 from C:\\Users\\MOHSAN ALI\\anaconda3\\lib\\site-packages\\pip (python 3.9)Note: you may need to restart the kernel to use updated packages.\n",
      "\n",
      "\n"
     ]
    }
   ],
   "source": [
    "pip --version"
   ]
  },
  {
   "cell_type": "code",
   "execution_count": 29,
   "id": "de28a67c",
   "metadata": {},
   "outputs": [
    {
     "name": "stdout",
     "output_type": "stream",
     "text": [
      "Today date and time is : 2021-12-30 21:51:03.131501\n"
     ]
    }
   ],
   "source": [
    "#Date and Time\n",
    "from datetime import datetime\n",
    "Date=datetime.now()\n",
    "print(\"Today date and time is :\",Date )"
   ]
  },
  {
   "cell_type": "code",
   "execution_count": 44,
   "id": "a15da8ec",
   "metadata": {},
   "outputs": [
    {
     "name": "stdout",
     "output_type": "stream",
     "text": [
      "Enter the radius of Circle:4\n",
      "Area of a Circle = 50.240\n"
     ]
    }
   ],
   "source": [
    "#Area of Circle\n",
    "PI= 3.14\n",
    "r=float(input(\"Enter the radius of Circle:\"))\n",
    "area= PI*r*r\n",
    "print(\"Area of a Circle = %.3f\" %area)"
   ]
  },
  {
   "cell_type": "code",
   "execution_count": 51,
   "id": "d3e814b8",
   "metadata": {},
   "outputs": [
    {
     "name": "stdout",
     "output_type": "stream",
     "text": [
      "Enter your first name:Mohsan\n",
      "Enter your last name:Ali\n",
      "Ali Mohsan\n"
     ]
    }
   ],
   "source": [
    "#First and Last Name\n",
    "first=input(\"Enter your first name:\")\n",
    "Last= input(\"Enter your last name:\")\n",
    "print(Last,first)\n"
   ]
  },
  {
   "cell_type": "code",
   "execution_count": 55,
   "id": "c9773f3c",
   "metadata": {},
   "outputs": [
    {
     "name": "stdout",
     "output_type": "stream",
     "text": [
      "nashoM ilA\n"
     ]
    }
   ],
   "source": [
    "#Reverse Full String\n",
    "def reverse_func(x,y):\n",
    "    x=first\n",
    "    y=Last\n",
    "    full_name=x[::-1]+\" \"+y[::-1]\n",
    "    return full_name\n",
    "print(reverse_func(first,Last))\n"
   ]
  },
  {
   "cell_type": "code",
   "execution_count": 57,
   "id": "5ba38228",
   "metadata": {},
   "outputs": [
    {
     "name": "stdout",
     "output_type": "stream",
     "text": [
      "Enter first number:34\n",
      "Enter first number:43\n",
      "77\n"
     ]
    }
   ],
   "source": [
    "#2 inputs and Addition\n",
    "fst= int(input(\"Enter first number:\"))\n",
    "lst= int(input(\"Enter first number:\"))\n",
    "add=fst+lst\n",
    "print(add)"
   ]
  },
  {
   "cell_type": "code",
   "execution_count": 58,
   "id": "0945d35f",
   "metadata": {},
   "outputs": [],
   "source": [
    "### Thanks sir, I learned new consepts and I'll try to do my best."
   ]
  }
 ],
 "metadata": {
  "kernelspec": {
   "display_name": "Python 3 (ipykernel)",
   "language": "python",
   "name": "python3"
  },
  "language_info": {
   "codemirror_mode": {
    "name": "ipython",
    "version": 3
   },
   "file_extension": ".py",
   "mimetype": "text/x-python",
   "name": "python",
   "nbconvert_exporter": "python",
   "pygments_lexer": "ipython3",
   "version": "3.9.7"
  }
 },
 "nbformat": 4,
 "nbformat_minor": 5
}
